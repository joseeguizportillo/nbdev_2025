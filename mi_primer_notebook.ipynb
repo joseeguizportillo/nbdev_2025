{
 "cells": [
  {
   "cell_type": "code",
   "execution_count": 1,
   "id": "3ddcd1d5-d9b6-4862-8ba2-4c69fdc91e62",
   "metadata": {},
   "outputs": [],
   "source": [
    "from nbdev.showdoc import show_doc"
   ]
  },
  {
   "cell_type": "code",
   "execution_count": 2,
   "id": "c7f9e297-70a8-49e7-974e-42618add8f24",
   "metadata": {},
   "outputs": [],
   "source": [
    "#| export\n",
    "def foo(): pass"
   ]
  },
  {
   "cell_type": "code",
   "execution_count": 4,
   "id": "ecf3f5aa-6351-464d-a652-6852ad1737ba",
   "metadata": {},
   "outputs": [
    {
     "name": "stdout",
     "output_type": "stream",
     "text": [
      "¡Hola!\n"
     ]
    }
   ],
   "source": [
    "#| export\n",
    "def saludo():\n",
    "    \"\"\"Imprime Hola\"\"\"\n",
    "    print('¡Hola!')\n",
    "    return\n",
    "\n",
    "saludo()\n"
   ]
  },
  {
   "cell_type": "code",
   "execution_count": 5,
   "id": "a5cdffb6-3921-4553-8a3f-7465554daecf",
   "metadata": {},
   "outputs": [
    {
     "name": "stdout",
     "output_type": "stream",
     "text": [
      "Hola! Raul\n",
      "Espero te encuentres bien\n"
     ]
    },
    {
     "data": {
      "text/markdown": [
       "---\n",
       "\n",
       "### saludo_a\n",
       "\n",
       ">      saludo_a (to)\n",
       "\n",
       "*Imprime hola a un nombre*"
      ],
      "text/plain": [
       "---\n",
       "\n",
       "### saludo_a\n",
       "\n",
       ">      saludo_a (to)\n",
       "\n",
       "*Imprime hola a un nombre*"
      ]
     },
     "execution_count": 5,
     "metadata": {},
     "output_type": "execute_result"
    }
   ],
   "source": [
    "#| export\n",
    "def saludo_a(to):\n",
    "    \"\"\"Imprime hola a un nombre\"\"\"\n",
    "    print('Hola!', to)\n",
    "    print('Espero te encuentres bien')\n",
    "    return\n",
    "\n",
    "saludo_a('Raul')\n",
    "\n",
    "from nbdev.showdoc import show_doc\n",
    "show_doc(saludo_a)\n"
   ]
  }
 ],
 "metadata": {
  "kernelspec": {
   "display_name": "Python 3 (ipykernel)",
   "language": "python",
   "name": "python3"
  },
  "language_info": {
   "codemirror_mode": {
    "name": "ipython",
    "version": 3
   },
   "file_extension": ".py",
   "mimetype": "text/x-python",
   "name": "python",
   "nbconvert_exporter": "python",
   "pygments_lexer": "ipython3",
   "version": "3.13.5"
  }
 },
 "nbformat": 4,
 "nbformat_minor": 5
}
